{
 "cells": [
  {
   "cell_type": "code",
   "execution_count": 6,
   "metadata": {
    "collapsed": false
   },
   "outputs": [
    {
     "name": "stdout",
     "output_type": "stream",
     "text": [
      "What is your name ?\n",
      "Sofiane\n",
      "Sorry but i do not know you\n"
     ]
    }
   ],
   "source": [
    "print('What is your name ?')\n",
    "name = input()\n",
    "if name == 'Alice':\n",
    "    print(\"Hi Alice\")\n",
    "else:\n",
    "    print(\"Sorry but i do not know you\")"
   ]
  },
  {
   "cell_type": "code",
   "execution_count": 19,
   "metadata": {
    "collapsed": false
   },
   "outputs": [
    {
     "name": "stdout",
     "output_type": "stream",
     "text": [
      "What is your name ?\n",
      "Enter your name:Sofiane\n",
      "What is your age ?\n",
      "Enter your age:30\n",
      "You are  Alice\n"
     ]
    }
   ],
   "source": [
    "print('What is your name ?')\n",
    "name = str(input(\"Enter your name:\"))\n",
    "\n",
    "print('What is your age ?')\n",
    "age = int(input(\"Enter your age:\"))\n",
    "\n",
    "if name == 'Alice':\n",
    "    print('Hi Alice')\n",
    "elif age < 12:\n",
    "    print('You are not Alice')\n",
    "elif age > 60:\n",
    "    print('You are not Alice, grannie')\n",
    "elif age >= 20:\n",
    "    print('You are  Alice')"
   ]
  },
  {
   "cell_type": "code",
   "execution_count": null,
   "metadata": {
    "collapsed": true
   },
   "outputs": [],
   "source": []
  }
 ],
 "metadata": {
  "kernelspec": {
   "display_name": "Python 3",
   "language": "python",
   "name": "python3"
  },
  "language_info": {
   "codemirror_mode": {
    "name": "ipython",
    "version": 3
   },
   "file_extension": ".py",
   "mimetype": "text/x-python",
   "name": "python",
   "nbconvert_exporter": "python",
   "pygments_lexer": "ipython3",
   "version": "3.5.2"
  }
 },
 "nbformat": 4,
 "nbformat_minor": 1
}
