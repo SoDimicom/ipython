{
 "cells": [
  {
   "cell_type": "code",
   "execution_count": 3,
   "metadata": {
    "collapsed": false
   },
   "outputs": [
    {
     "name": "stdout",
     "output_type": "stream",
     "text": [
      "My name is\n",
      "Sofiane Touchani0\n",
      "Sofiane Touchani1\n",
      "Sofiane Touchani2\n",
      "Sofiane Touchani3\n",
      "Sofiane Touchani4\n",
      "Sofiane Touchani5\n",
      "Sofiane Touchani6\n",
      "Sofiane Touchani7\n",
      "Sofiane Touchani8\n",
      "Sofiane Touchani9\n"
     ]
    }
   ],
   "source": [
    "print(\"My name is\")\n",
    "for i in range (10):\n",
    "    print(\"Sofiane Touchani\" + str(i))"
   ]
  },
  {
   "cell_type": "code",
   "execution_count": 4,
   "metadata": {
    "collapsed": false
   },
   "outputs": [
    {
     "name": "stdout",
     "output_type": "stream",
     "text": [
      "My name is\n",
      "Sofiane Touchani1\n",
      "Sofiane Touchani3\n",
      "Sofiane Touchani5\n",
      "Sofiane Touchani7\n",
      "Sofiane Touchani9\n"
     ]
    }
   ],
   "source": [
    "print(\"My name is\")\n",
    "for i in range (1, 10, 2):\n",
    "    print(\"Sofiane Touchani\" + str(i))"
   ]
  },
  {
   "cell_type": "code",
   "execution_count": null,
   "metadata": {
    "collapsed": true
   },
   "outputs": [],
   "source": []
  }
 ],
 "metadata": {
  "kernelspec": {
   "display_name": "Python 3",
   "language": "python",
   "name": "python3"
  },
  "language_info": {
   "codemirror_mode": {
    "name": "ipython",
    "version": 3
   },
   "file_extension": ".py",
   "mimetype": "text/x-python",
   "name": "python",
   "nbconvert_exporter": "python",
   "pygments_lexer": "ipython3",
   "version": "3.5.2"
  }
 },
 "nbformat": 4,
 "nbformat_minor": 1
}
