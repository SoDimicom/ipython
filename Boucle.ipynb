{
 "cells": [
  {
   "cell_type": "code",
   "execution_count": 1,
   "metadata": {
    "collapsed": false,
    "scrolled": true
   },
   "outputs": [
    {
     "name": "stdout",
     "output_type": "stream",
     "text": [
      "Hello World\n",
      "Hello World\n",
      "Hello World\n",
      "Hello World\n",
      "Hello World\n"
     ]
    }
   ],
   "source": [
    "spam = 0\n",
    "while spam < 5:\n",
    "    print('Hello World')\n",
    "    spam = spam + 1"
   ]
  },
  {
   "cell_type": "code",
   "execution_count": null,
   "metadata": {
    "collapsed": false
   },
   "outputs": [],
   "source": [
    "name = ''\n",
    "while name != 'Sofiane':\n",
    "    print('Please enter your name.')\n",
    "    name = input()\n",
    "print('Thank you')"
   ]
  },
  {
   "cell_type": "code",
   "execution_count": 1,
   "metadata": {
    "collapsed": false
   },
   "outputs": [
    {
     "name": "stdout",
     "output_type": "stream",
     "text": [
      "Please enter your name.\n",
      "So\n",
      "Please enter your name.\n",
      "SOfi\n",
      "Please enter your name.\n",
      "sofiane\n",
      "Please enter your name.\n",
      "Sofiane\n",
      "Thank you\n"
     ]
    }
   ],
   "source": [
    "name = ''\n",
    "while name != 'Sofiane':\n",
    "    print('Please enter your name.')\n",
    "    name = input()\n",
    "print('Thank you')"
   ]
  },
  {
   "cell_type": "code",
   "execution_count": 2,
   "metadata": {
    "collapsed": false
   },
   "outputs": [
    {
     "name": "stdout",
     "output_type": "stream",
     "text": [
      "Please enter your name.\n",
      "so\n",
      "Please enter your name.\n",
      "sofi\n",
      "Please enter your name.\n",
      "SOfian\n",
      "Please enter your name.\n",
      "Sofiane\n",
      "Thank you\n"
     ]
    }
   ],
   "source": [
    "name = ''\n",
    "while True:\n",
    "    print('Please enter your name.')\n",
    "    name = input()\n",
    "    if name == \"Sofiane\":\n",
    "        break\n",
    "print('Thank you')"
   ]
  },
  {
   "cell_type": "code",
   "execution_count": null,
   "metadata": {
    "collapsed": true
   },
   "outputs": [],
   "source": []
  }
 ],
 "metadata": {
  "kernelspec": {
   "display_name": "Python 3",
   "language": "python",
   "name": "python3"
  },
  "language_info": {
   "codemirror_mode": {
    "name": "ipython",
    "version": 3
   },
   "file_extension": ".py",
   "mimetype": "text/x-python",
   "name": "python",
   "nbconvert_exporter": "python",
   "pygments_lexer": "ipython3",
   "version": "3.5.2"
  }
 },
 "nbformat": 4,
 "nbformat_minor": 1
}
